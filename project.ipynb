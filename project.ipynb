{
 "cells": [
  {
   "cell_type": "code",
   "execution_count": 6,
   "metadata": {},
   "outputs": [],
   "source": [
    "import subprocess"
   ]
  },
  {
   "cell_type": "code",
   "execution_count": 7,
   "metadata": {},
   "outputs": [
    {
     "data": {
      "text/plain": [
       "['c:\\\\Users\\\\91739\\\\Documents\\\\python\\\\python library manager',\n",
       " 'c:\\\\Users\\\\91739\\\\AppData\\\\Local\\\\Programs\\\\Python\\\\Python310\\\\python310.zip',\n",
       " 'c:\\\\Users\\\\91739\\\\AppData\\\\Local\\\\Programs\\\\Python\\\\Python310\\\\DLLs',\n",
       " 'c:\\\\Users\\\\91739\\\\AppData\\\\Local\\\\Programs\\\\Python\\\\Python310\\\\lib',\n",
       " 'c:\\\\Users\\\\91739\\\\AppData\\\\Local\\\\Programs\\\\Python\\\\Python310',\n",
       " '',\n",
       " 'C:\\\\Users\\\\91739\\\\AppData\\\\Roaming\\\\Python\\\\Python310\\\\site-packages',\n",
       " 'C:\\\\Users\\\\91739\\\\AppData\\\\Roaming\\\\Python\\\\Python310\\\\site-packages\\\\win32',\n",
       " 'C:\\\\Users\\\\91739\\\\AppData\\\\Roaming\\\\Python\\\\Python310\\\\site-packages\\\\win32\\\\lib',\n",
       " 'C:\\\\Users\\\\91739\\\\AppData\\\\Roaming\\\\Python\\\\Python310\\\\site-packages\\\\Pythonwin',\n",
       " 'c:\\\\Users\\\\91739\\\\AppData\\\\Local\\\\Programs\\\\Python\\\\Python310\\\\lib\\\\site-packages']"
      ]
     },
     "execution_count": 7,
     "metadata": {},
     "output_type": "execute_result"
    }
   ],
   "source": [
    "import sys\n",
    "sys.path"
   ]
  },
  {
   "cell_type": "code",
   "execution_count": 8,
   "metadata": {},
   "outputs": [
    {
     "name": "stdout",
     "output_type": "stream",
     "text": [
      "Output:\n",
      "Requirement already satisfied: scikit-learn in c:\\users\\91739\\appdata\\local\\programs\\python\\python310\\lib\\site-packages (1.2.2)\n",
      "Requirement already satisfied: numpy>=1.17.3 in c:\\users\\91739\\appdata\\local\\programs\\python\\python310\\lib\\site-packages (from scikit-learn) (1.24.2)\n",
      "Requirement already satisfied: joblib>=1.1.1 in c:\\users\\91739\\appdata\\local\\programs\\python\\python310\\lib\\site-packages (from scikit-learn) (1.2.0)\n",
      "Requirement already satisfied: scipy>=1.3.2 in c:\\users\\91739\\appdata\\local\\programs\\python\\python310\\lib\\site-packages (from scikit-learn) (1.10.1)\n",
      "Requirement already satisfied: threadpoolctl>=2.0.0 in c:\\users\\91739\\appdata\\local\\programs\\python\\python310\\lib\\site-packages (from scikit-learn) (3.1.0)\n",
      "Error:\n",
      "[notice] A new release of pip is available: 23.0.1 -> 23.1\n",
      "[notice] To update, run: python.exe -m pip install --upgrade pip\n",
      "Return code:\n",
      "0\n"
     ]
    }
   ],
   "source": [
    "import subprocess\n",
    "\n",
    "# Define the command to run\n",
    "command = ['pip', 'install', 'scikit-learn','--upgrade']\n",
    "\n",
    "# Run the command and capture the output\n",
    "result = subprocess.run(command, capture_output=True, text=True)\n",
    "\n",
    "# Get the output and error messages\n",
    "output = result.stdout.strip()\n",
    "error = result.stderr.strip()\n",
    "\n",
    "# Print the output and error messages\n",
    "print(\"Output:\")\n",
    "print(output)\n",
    "\n",
    "print(\"Error:\")\n",
    "print(error)\n",
    "\n",
    "print(\"Return code:\")\n",
    "print(result.returncode)"
   ]
  },
  {
   "cell_type": "code",
   "execution_count": 9,
   "metadata": {},
   "outputs": [
    {
     "data": {
      "text/plain": [
       "0"
      ]
     },
     "execution_count": 9,
     "metadata": {},
     "output_type": "execute_result"
    }
   ],
   "source": [
    "result.returncode"
   ]
  },
  {
   "cell_type": "code",
   "execution_count": 10,
   "metadata": {},
   "outputs": [],
   "source": [
    "import subprocess\n",
    "from datetime import datetime\n",
    "\n",
    "\n",
    "def get_returncode_text(returncode):\n",
    "    if returncode == 0:\n",
    "        return \"Success\"\n",
    "    elif returncode == 1:\n",
    "        return \"General error\"\n",
    "    elif returncode == 2:\n",
    "        return \"Invalid usage\"\n",
    "    elif returncode == 3:\n",
    "        return \"Internal error\"\n",
    "    else:\n",
    "        return \"Unknown error\"\n",
    "    \n",
    "def command_string_to_list(command_string):\n",
    "    return command_string.split()\n",
    "\n",
    "def log_success(message):\n",
    "    log(message, \"success\")\n",
    "\n",
    "def log_error(message):\n",
    "    log(message, \"error\")\n",
    "\n",
    "\n",
    "def log(message, state):\n",
    "    filewithdate = \"log\"+datetime.now().strftime(\"%Y_%m_%d\") + \".txt\"\n",
    "    with open(filewithdate, \"a\") as log_file:\n",
    "        log_file.write(f\"{datetime.now()}| {state} | {message}\\n\")\n",
    "\n",
    "def run_command(command):\n",
    "    cmd_list = command_string_to_list(command)\n",
    "    result = subprocess.run(command, capture_output=True, text=True)\n",
    "    if get_returncode_text(result.returncode) == \"Success\":\n",
    "        output = result.stdout.strip()\n",
    "        log_success(output)\n",
    "        print(\"Success\")\n",
    "    else:\n",
    "        error = result.stderr.strip()\n",
    "        log_error(error)\n",
    "        print(\"Error\")\n",
    "    return result.returncode"
   ]
  },
  {
   "cell_type": "code",
   "execution_count": 11,
   "metadata": {},
   "outputs": [
    {
     "name": "stdout",
     "output_type": "stream",
     "text": [
      "Success\n",
      "0\n"
     ]
    }
   ],
   "source": [
    "return_code = run_command(\"pip install scikit-learn\")\n",
    "print(return_code)"
   ]
  },
  {
   "cell_type": "code",
   "execution_count": 12,
   "metadata": {},
   "outputs": [],
   "source": [
    "def install_lib(lib_name):\n",
    "    return_code = run_command(f\"pip install {lib_name}\")\n",
    "    return return_code\n",
    "\n",
    "def uninstall_lib(lib_name):\n",
    "    return_code = run_command(f\"pip uninstall {lib_name} -y\")\n",
    "    return return_code\n",
    "\n",
    "def upgrade_lib(lib_name):\n",
    "    return_code = run_command(f\"pip install {lib_name} --upgrade\")\n",
    "    return return_code\n",
    "\n",
    "def search_lib(lib_name):\n",
    "    return_code = run_command(f\"pip search {lib_name}\")\n",
    "    return return_code  "
   ]
  },
  {
   "cell_type": "code",
   "execution_count": 13,
   "metadata": {},
   "outputs": [
    {
     "name": "stdout",
     "output_type": "stream",
     "text": [
      "Success\n"
     ]
    },
    {
     "data": {
      "text/plain": [
       "0"
      ]
     },
     "execution_count": 13,
     "metadata": {},
     "output_type": "execute_result"
    }
   ],
   "source": [
    "install_lib(\"scikit-learn\")"
   ]
  }
 ],
 "metadata": {
  "kernelspec": {
   "display_name": "Python 3",
   "language": "python",
   "name": "python3"
  },
  "language_info": {
   "codemirror_mode": {
    "name": "ipython",
    "version": 3
   },
   "file_extension": ".py",
   "mimetype": "text/x-python",
   "name": "python",
   "nbconvert_exporter": "python",
   "pygments_lexer": "ipython3",
   "version": "3.10.9"
  },
  "orig_nbformat": 4
 },
 "nbformat": 4,
 "nbformat_minor": 2
}
