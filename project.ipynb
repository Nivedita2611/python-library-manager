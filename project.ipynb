{
 "cells": [
  {
   "cell_type": "code",
   "execution_count": 6,
   "metadata": {},
   "outputs": [],
   "source": [
    "import subprocess"
   ]
  },
  {
   "cell_type": "code",
   "execution_count": 7,
   "metadata": {},
   "outputs": [
    {
     "data": {
      "text/plain": [
       "['c:\\\\Users\\\\91739\\\\Documents\\\\python\\\\python library manager',\n",
       " 'c:\\\\Users\\\\91739\\\\AppData\\\\Local\\\\Programs\\\\Python\\\\Python310\\\\python310.zip',\n",
       " 'c:\\\\Users\\\\91739\\\\AppData\\\\Local\\\\Programs\\\\Python\\\\Python310\\\\DLLs',\n",
       " 'c:\\\\Users\\\\91739\\\\AppData\\\\Local\\\\Programs\\\\Python\\\\Python310\\\\lib',\n",
       " 'c:\\\\Users\\\\91739\\\\AppData\\\\Local\\\\Programs\\\\Python\\\\Python310',\n",
       " '',\n",
       " 'C:\\\\Users\\\\91739\\\\AppData\\\\Roaming\\\\Python\\\\Python310\\\\site-packages',\n",
       " 'C:\\\\Users\\\\91739\\\\AppData\\\\Roaming\\\\Python\\\\Python310\\\\site-packages\\\\win32',\n",
       " 'C:\\\\Users\\\\91739\\\\AppData\\\\Roaming\\\\Python\\\\Python310\\\\site-packages\\\\win32\\\\lib',\n",
       " 'C:\\\\Users\\\\91739\\\\AppData\\\\Roaming\\\\Python\\\\Python310\\\\site-packages\\\\Pythonwin',\n",
       " 'c:\\\\Users\\\\91739\\\\AppData\\\\Local\\\\Programs\\\\Python\\\\Python310\\\\lib\\\\site-packages']"
      ]
     },
     "execution_count": 7,
     "metadata": {},
     "output_type": "execute_result"
    }
   ],
   "source": [
    "import sys\n",
    "sys.path"
   ]
  },
  {
   "cell_type": "code",
   "execution_count": 8,
   "metadata": {},
   "outputs": [
    {
     "name": "stdout",
     "output_type": "stream",
     "text": [
      "Output:\n",
      "Requirement already satisfied: scikit-learn in c:\\users\\91739\\appdata\\local\\programs\\python\\python310\\lib\\site-packages (1.2.2)\n",
      "Requirement already satisfied: numpy>=1.17.3 in c:\\users\\91739\\appdata\\local\\programs\\python\\python310\\lib\\site-packages (from scikit-learn) (1.24.2)\n",
      "Requirement already satisfied: joblib>=1.1.1 in c:\\users\\91739\\appdata\\local\\programs\\python\\python310\\lib\\site-packages (from scikit-learn) (1.2.0)\n",
      "Requirement already satisfied: scipy>=1.3.2 in c:\\users\\91739\\appdata\\local\\programs\\python\\python310\\lib\\site-packages (from scikit-learn) (1.10.1)\n",
      "Requirement already satisfied: threadpoolctl>=2.0.0 in c:\\users\\91739\\appdata\\local\\programs\\python\\python310\\lib\\site-packages (from scikit-learn) (3.1.0)\n",
      "Error:\n",
      "[notice] A new release of pip is available: 23.0.1 -> 23.1\n",
      "[notice] To update, run: python.exe -m pip install --upgrade pip\n",
      "Return code:\n",
      "0\n"
     ]
    }
   ],
   "source": [
    "import subprocess\n",
    "\n",
    "# Define the command to run\n",
    "command = ['pip', 'install', 'scikit-learn','--upgrade']\n",
    "\n",
    "# Run the command and capture the output\n",
    "result = subprocess.run(command, capture_output=True, text=True)\n",
    "\n",
    "# Get the output and error messages\n",
    "output = result.stdout.strip()\n",
    "error = result.stderr.strip()\n",
    "\n",
    "# Print the output and error messages\n",
    "print(\"Output:\")\n",
    "print(output)\n",
    "\n",
    "print(\"Error:\")\n",
    "print(error)\n",
    "\n",
    "print(\"Return code:\")\n",
    "print(result.returncode)"
   ]
  },
  {
   "cell_type": "code",
   "execution_count": 9,
   "metadata": {},
   "outputs": [
    {
     "data": {
      "text/plain": [
       "0"
      ]
     },
     "execution_count": 9,
     "metadata": {},
     "output_type": "execute_result"
    }
   ],
   "source": [
    "result.returncode"
   ]
  },
  {
   "cell_type": "code",
   "execution_count": 10,
   "metadata": {},
   "outputs": [],
   "source": [
    "import subprocess\n",
    "from datetime import datetime\n",
    "\n",
    "\n",
    "def get_returncode_text(returncode):\n",
    "    if returncode == 0:\n",
    "        return \"Success\"\n",
    "    elif returncode == 1:\n",
    "        return \"General error\"\n",
    "    elif returncode == 2:\n",
    "        return \"Invalid usage\"\n",
    "    elif returncode == 3:\n",
    "        return \"Internal error\"\n",
    "    else:\n",
    "        return \"Unknown error\"\n",
    "    \n",
    "def command_string_to_list(command_string):\n",
    "    return command_string.split()\n",
    "\n",
    "def log_success(message):\n",
    "    log(message, \"success\")\n",
    "\n",
    "def log_error(message):\n",
    "    log(message, \"error\")\n",
    "\n",
    "\n",
    "def log(message, state):\n",
    "    filewithdate = \"log\"+datetime.now().strftime(\"%Y_%m_%d\") + \".txt\"\n",
    "    with open(filewithdate, \"a\") as log_file:\n",
    "        log_file.write(f\"{datetime.now()}| {state} | {message}\\n\")\n",
    "\n",
    "def run_command(command):\n",
    "    cmd_list = command_string_to_list(command)\n",
    "    result = subprocess.run(command, capture_output=True, text=True)\n",
    "    if get_returncode_text(result.returncode) == \"Success\":\n",
    "        output = result.stdout.strip()\n",
    "        log_success(output)\n",
    "        print(\"Success\")\n",
    "    else:\n",
    "        error = result.stderr.strip()\n",
    "        log_error(error)\n",
    "        print(\"Error\")\n",
    "    return result.returncode"
   ]
  },
  {
   "cell_type": "code",
   "execution_count": 11,
   "metadata": {},
   "outputs": [
    {
     "name": "stdout",
     "output_type": "stream",
     "text": [
      "Success\n",
      "0\n"
     ]
    }
   ],
   "source": [
    "return_code = run_command(\"pip install scikit-learn\")\n",
    "print(return_code)"
   ]
  },
  {
   "cell_type": "code",
   "execution_count": 12,
   "metadata": {},
   "outputs": [],
   "source": [
    "def install_lib(lib_name):\n",
    "    return_code = run_command(f\"pip install {lib_name}\")\n",
    "    return return_code\n",
    "\n",
    "def uninstall_lib(lib_name):\n",
    "    return_code = run_command(f\"pip uninstall {lib_name} -y\")\n",
    "    return return_code\n",
    "\n",
    "def upgrade_lib(lib_name):\n",
    "    return_code = run_command(f\"pip install {lib_name} --upgrade\")\n",
    "    return return_code\n",
    "\n",
    "def search_lib(lib_name):\n",
    "    return_code = run_command(f\"pip search {lib_name}\")\n",
    "    return return_code  "
   ]
  },
  {
   "cell_type": "code",
   "execution_count": 13,
   "metadata": {},
   "outputs": [
    {
     "name": "stdout",
     "output_type": "stream",
     "text": [
      "Success\n"
     ]
    },
    {
     "data": {
      "text/plain": [
       "0"
      ]
     },
     "execution_count": 13,
     "metadata": {},
     "output_type": "execute_result"
    }
   ],
   "source": [
    "install_lib(\"scikit-learn\")"
   ]
  },
  {
   "cell_type": "code",
   "execution_count": null,
   "metadata": {},
   "outputs": [],
   "source": [
    "import os\n",
    "import time\n",
    "path = 'log2023_04_20.txt'\n",
    "file = open(path)\n",
    "atime = os.path.getatime(path)\n",
    "ctime = os.path.getctime(path)\n",
    "current_time = time.time()\n"
   ]
  },
  {
   "cell_type": "code",
   "execution_count": 1,
   "metadata": {},
   "outputs": [
    {
     "data": {
      "text/plain": [
       "200"
      ]
     },
     "execution_count": 1,
     "metadata": {},
     "output_type": "execute_result"
    }
   ],
   "source": [
    "import requests\n",
    "\n",
    "libname = 'altair'\n",
    "pypi_url = f\"https://pypi.org/pypi/{libname}/json\"\n",
    "\n",
    "response = requests.get(pypi_url)\n",
    "response.status_code\n",
    "dict(response.json())['info']"
   ]
  },
  {
   "cell_type": "code",
   "execution_count": 5,
   "metadata": {},
   "outputs": [
    {
     "data": {
      "text/plain": [
       "{'author': 'Brian E. Granger / Jake VanderPlas',\n",
       " 'author_email': 'jakevdp@gmail.com',\n",
       " 'bugtrack_url': None,\n",
       " 'classifiers': ['Development Status :: 5 - Production/Stable',\n",
       "  'Environment :: Console',\n",
       "  'Intended Audience :: Science/Research',\n",
       "  'License :: OSI Approved :: BSD License',\n",
       "  'Natural Language :: English',\n",
       "  'Programming Language :: Python :: 3.10',\n",
       "  'Programming Language :: Python :: 3.7',\n",
       "  'Programming Language :: Python :: 3.8',\n",
       "  'Programming Language :: Python :: 3.9'],\n",
       " 'description': '# Altair <a href=\"https://altair-viz.github.io/\"><img align=\"right\" src=\"https://altair-viz.github.io/_static/altair-logo-light.png\" height=\"50\"></img></a>\\n\\n[![build status](https://img.shields.io/travis/altair-viz/altair/master.svg?style=flat)](https://travis-ci.org/altair-viz/altair)\\n[![github actions](https://github.com/altair-viz/altair/workflows/build/badge.svg)](https://github.com/altair-viz/altair/actions?query=workflow%3Abuild)\\n[![code style black](https://img.shields.io/badge/code%20style-black-000000.svg)](https://github.com/psf/black)\\n[![JOSS Paper](https://joss.theoj.org/papers/10.21105/joss.01057/status.svg)](https://joss.theoj.org/papers/10.21105/joss.01057)\\n[![PyPI - Downloads](https://img.shields.io/pypi/dm/altair)](https://pypi.org/project/altair)\\n[![Binder](https://mybinder.org/badge_logo.svg)](https://mybinder.org/v2/gh/altair-viz/altair_notebooks/master?urlpath=lab/tree/notebooks/Index.ipynb)\\n[![Colab](https://colab.research.google.com/assets/colab-badge.svg)](https://colab.research.google.com/github/altair-viz/altair_notebooks/blob/master/notebooks/Index.ipynb)\\n\\n[https://altair-viz.github.io](https://altair-viz.github.io)\\n\\n**Altair** is a declarative statistical visualization library for Python. With Altair, you can spend more time understanding your data and its meaning. Altair\\'s\\nAPI is simple, friendly and consistent and built on top of the powerful\\n[Vega-Lite](https://github.com/vega/vega-lite) JSON specification. This elegant\\nsimplicity produces beautiful and effective visualizations with a minimal amount of code. *Altair is developed by [Jake Vanderplas](https://github.com/jakevdp) and [Brian\\nGranger](https://github.com/ellisonbg) in close collaboration with the [UW\\nInteractive Data Lab](https://idl.cs.washington.edu/).*\\n\\n## Altair Documentation\\n\\nSee [Altair\\'s Documentation Site](https://altair-viz.github.io),\\nas well as Altair\\'s [Tutorial Notebooks](https://github.com/altair-viz/altair_notebooks).\\n\\n## Example\\n\\nHere is an example using Altair to quickly visualize and display a dataset with the native Vega-Lite renderer in the JupyterLab:\\n\\n```python\\nimport altair as alt\\n\\n# load a simple dataset as a pandas DataFrame\\nfrom vega_datasets import data\\ncars = data.cars()\\n\\nalt.Chart(cars).mark_point().encode(\\n    x=\\'Horsepower\\',\\n    y=\\'Miles_per_Gallon\\',\\n    color=\\'Origin\\',\\n)\\n```\\n\\n![Altair Visualization](https://raw.githubusercontent.com/altair-viz/altair/master/images/cars.png)\\n\\nOne of the unique features of Altair, inherited from Vega-Lite, is a declarative grammar of not just visualization, but _interaction_. \\nWith a few modifications to the example above we can create a linked histogram that is filtered based on a selection of the scatter plot.\\n\\n```python \\nimport altair as alt\\nfrom vega_datasets import data\\n\\nsource = data.cars()\\n\\nbrush = alt.selection(type=\\'interval\\')\\n\\npoints = alt.Chart(source).mark_point().encode(\\n    x=\\'Horsepower\\',\\n    y=\\'Miles_per_Gallon\\',\\n    color=alt.condition(brush, \\'Origin\\', alt.value(\\'lightgray\\'))\\n).add_selection(\\n    brush\\n)\\n\\nbars = alt.Chart(source).mark_bar().encode(\\n    y=\\'Origin\\',\\n    color=\\'Origin\\',\\n    x=\\'count(Origin)\\'\\n).transform_filter(\\n    brush\\n)\\n\\npoints & bars\\n```\\n\\n![Altair Visualization Gif](https://raw.githubusercontent.com/altair-viz/altair/master/images/cars_scatter_bar.gif)\\n\\n\\n## Getting your Questions Answered\\n\\nIf you have a question that is not addressed in the documentation, there are several ways to ask:\\n\\n- open a [Github Issue](https://github.com/altair-viz/altair/issues)\\n- post a [StackOverflow Question](https://stackoverflow.com/questions/tagged/altair) (be sure to use the `altair` tag)\\n- ask on the [Altair Google Group](https://groups.google.com/forum/#!forum/altair-viz)\\n\\nWe\\'ll do our best to get your question answered\\n\\n## A Python API for statistical visualizations\\n\\nAltair provides a Python API for building statistical visualizations in a declarative\\nmanner. By statistical visualization we mean:\\n\\n* The **data source** is a `DataFrame` that consists of columns of different data types (quantitative, ordinal, nominal and date/time).\\n* The `DataFrame` is in a [tidy format](https://vita.had.co.nz/papers/tidy-data.pdf)\\n  where the rows correspond to samples and the columns correspond to the observed variables.\\n* The data is mapped to the **visual properties** (position, color, size, shape,\\n  faceting, etc.) using the group-by data transformation.\\n\\nThe Altair API contains no actual visualization rendering code but instead\\nemits JSON data structures following the\\n[Vega-Lite](https://github.com/vega/vega-lite) specification. The resulting\\nVega-Lite JSON data can be rendered in the following user-interfaces:\\n\\n* [Jupyter Notebook](https://github.com/jupyter/notebook) (by installing [ipyvega](https://github.com/vega/ipyvega)).\\n* [JupyterLab](https://github.com/jupyterlab/jupyterlab) (no additional dependencies needed).\\n* [nteract](https://github.com/nteract/nteract) (no additional dependencies needed).\\n\\n## Features\\n\\n* Carefully-designed, declarative Python API based on\\n  [traitlets](https://github.com/ipython/traitlets).\\n* Auto-generated internal Python API that guarantees visualizations are type-checked and\\n  in full conformance with the [Vega-Lite](https://github.com/vega/vega-lite)\\n  specification.\\n* Auto-generate Altair Python code from a Vega-Lite JSON spec.\\n* Display visualizations in the live Jupyter Notebook, JupyterLab, nteract, on GitHub and\\n  [nbviewer](https://nbviewer.jupyter.org/).\\n* Export visualizations to PNG/SVG images, stand-alone HTML pages and the\\n[Online Vega-Lite Editor](https://vega.github.io/editor/#/).\\n* Serialize visualizations as JSON files.\\n* Explore Altair with dozens of examples in the [Example Gallery](https://altair-viz.github.io/gallery/index.html)\\n\\n## Installation\\n\\nTo use Altair for visualization, you need to install two sets of tools\\n\\n1. The core Altair Package and its dependencies\\n\\n2. The renderer for the frontend you wish to use (i.e. `Jupyter Notebook`,\\n   `JupyterLab`, or `nteract`)\\n\\nAltair can be installed with either ``pip`` or with ``conda``.\\nFor full installation instructions, please see\\nhttps://altair-viz.github.io/getting_started/installation.html\\n\\n## Example and tutorial notebooks\\n\\nWe maintain a separate Github repository of Jupyter Notebooks that contain an\\ninteractive tutorial and examples:\\n\\nhttps://github.com/altair-viz/altair_notebooks\\n\\nTo launch a live notebook server with those notebook using [binder](https://mybinder.org/) or\\n[Colab](https://colab.research.google.com), click on one of the following badges:\\n\\n[![Binder](https://beta.mybinder.org/badge.svg)](https://beta.mybinder.org/v2/gh/altair-viz/altair_notebooks/master)\\n[![Colab](https://colab.research.google.com/assets/colab-badge.svg)](https://colab.research.google.com/github/altair-viz/altair_notebooks/blob/master/notebooks/Index.ipynb)\\n\\n## Project philosophy\\n\\nMany excellent plotting libraries exist in Python, including the main ones:\\n\\n* [Matplotlib](https://matplotlib.org/)\\n* [Bokeh](https://bokeh.pydata.org/en/latest/)\\n* [Seaborn](https://seaborn.pydata.org/)\\n* [Lightning](https://github.com/lightning-viz/lightning)\\n* [Plotly](https://plot.ly/)\\n* [Pandas built-in plotting](https://pandas.pydata.org/pandas-docs/stable/visualization.html)\\n* [HoloViews](https://holoviews.org)\\n* [VisPy](https://vispy.org/)\\n* [pygg](https://www.github.com/sirrice/pygg)\\n\\nEach library does a particular set of things well.\\n\\n### User challenges\\n\\nHowever, such a proliferation of options creates great difficulty for users\\nas they have to wade through all of these APIs to find which of them is the\\nbest for the task at hand. None of these libraries are optimized for\\nhigh-level statistical visualization, so users have to assemble their own\\nusing a mishmash of APIs. For individuals just learning data science, this\\nforces them to focus on learning APIs rather than exploring their data.\\n\\nAnother challenge is current plotting APIs require the user to write code,\\neven for incidental details of a visualization. This results in an unfortunate\\nand unnecessary cognitive burden as the visualization type (histogram,\\nscatterplot, etc.) can often be inferred using basic information such as the\\ncolumns of interest and the data types of those columns.\\n\\nFor example, if you are interested in the visualization of two numerical\\ncolumns, a scatterplot is almost certainly a good starting point. If you add\\na categorical column to that, you probably want to encode that column using\\ncolors or facets. If inferring the visualization proves difficult at times, a\\nsimple user interface can construct a visualization without any coding.\\n[Tableau](https://www.tableau.com/) and the [Interactive Data\\nLab\\'s](https://idl.cs.washington.edu/)\\n[Polestar](https://github.com/vega/polestar) and\\n[Voyager](https://github.com/vega/voyager) are excellent examples of such UIs.\\n\\n### Design approach and solution\\n\\nWe believe that these challenges can be addressed without the creation of yet\\nanother visualization library that has a programmatic API and built-in\\nrendering. Altair\\'s approach to building visualizations uses a layered design\\nthat leverages the full capabilities of existing visualization libraries:\\n\\n1. Create a constrained, simple Python API (Altair) that is purely declarative\\n2. Use the API (Altair) to emit JSON output that follows the Vega-Lite spec\\n3. Render that spec using existing visualization libraries\\n\\nThis approach enables users to perform exploratory visualizations with a much\\nsimpler API initially, pick an appropriate renderer for their usage case, and\\nthen leverage the full capabilities of that renderer for more advanced plot\\ncustomization.\\n\\nWe realize that a declarative API will necessarily be limited compared to the\\nfull programmatic APIs of Matplotlib, Bokeh, etc. That is a deliberate design\\nchoice we feel is needed to simplify the user experience of exploratory\\nvisualization.\\n\\n## Development install\\n\\nAltair requires the following dependencies:\\n\\n* [pandas](https://pandas.pydata.org/)\\n* [traitlets](https://github.com/ipython/traitlets)\\n* [IPython](https://github.com/ipython/ipython)\\n\\nIf you have cloned the repository, run the following command from the root of the repository:\\n\\n```\\npip install -e .[dev]\\n```\\n\\nIf you do not wish to clone the repository, you can install using:\\n\\n```\\npip install git+https://github.com/altair-viz/altair\\n```\\n\\n## Testing\\n\\nTo run the test suite you must have [py.test](https://pytest.org/latest/) installed.\\nTo run the tests, use\\n\\n```\\npy.test --pyargs altair\\n```\\n(you can omit the `--pyargs` flag if you are running the tests from a source checkout).\\n\\n## Feedback and Contribution\\n\\nSee [`CONTRIBUTING.md`](https://github.com/altair-viz/altair/blob/master/CONTRIBUTING.md)\\n\\n## Citing Altair\\n\\n[![JOSS Paper](https://joss.theoj.org/papers/10.21105/joss.01057/status.svg)](https://joss.theoj.org/papers/10.21105/joss.01057)\\n\\nIf you use Altair in academic work, please consider citing https://joss.theoj.org/papers/10.21105/joss.01057 as\\n\\n```bib\\n@article{VanderPlas2018,\\n    doi = {10.21105/joss.01057},\\n    url = {https://doi.org/10.21105/joss.01057},\\n    year = {2018},\\n    publisher = {The Open Journal},\\n    volume = {3},\\n    number = {32},\\n    pages = {1057},\\n    author = {Jacob VanderPlas and Brian Granger and Jeffrey Heer and Dominik Moritz and Kanit Wongsuphasawat and Arvind Satyanarayan and Eitan Lees and Ilia Timofeev and Ben Welsh and Scott Sievert},\\n    title = {Altair: Interactive Statistical Visualizations for Python},\\n    journal = {Journal of Open Source Software}\\n}\\n```\\nPlease additionally consider citing the [vega-lite](https://vega.github.io/vega-lite/) project, which Altair is based on: https://dl.acm.org/doi/10.1109/TVCG.2016.2599030\\n```bib\\n@article{Satyanarayan2017,\\n    author={Satyanarayan, Arvind and Moritz, Dominik and Wongsuphasawat, Kanit and Heer, Jeffrey},\\n    title={Vega-Lite: A Grammar of Interactive Graphics},\\n    journal={IEEE transactions on visualization and computer graphics},\\n    year={2017},\\n    volume={23},\\n    number={1},\\n    pages={341-350},\\n    publisher={IEEE}\\n} \\n```\\n\\n## Whence Altair?\\n\\nAltair is the [brightest star](https://en.wikipedia.org/wiki/Altair) in the constellation Aquila, and along with Deneb and Vega forms the northern-hemisphere asterism known as the [Summer Triangle](https://en.wikipedia.org/wiki/Summer_Triangle).\\n',\n",
       " 'description_content_type': 'text/markdown',\n",
       " 'docs_url': None,\n",
       " 'download_url': 'http://github.com/altair-viz/altair/',\n",
       " 'downloads': {'last_day': -1, 'last_month': -1, 'last_week': -1},\n",
       " 'home_page': 'http://altair-viz.github.io',\n",
       " 'keywords': '',\n",
       " 'license': 'BSD 3-clause',\n",
       " 'maintainer': '',\n",
       " 'maintainer_email': '',\n",
       " 'name': 'altair',\n",
       " 'package_url': 'https://pypi.org/project/altair/',\n",
       " 'platform': None,\n",
       " 'project_url': 'https://pypi.org/project/altair/',\n",
       " 'project_urls': {'Download': 'http://github.com/altair-viz/altair/',\n",
       "  'Homepage': 'http://altair-viz.github.io'},\n",
       " 'release_url': 'https://pypi.org/project/altair/4.2.2/',\n",
       " 'requires_dist': ['entrypoints',\n",
       "  'jinja2',\n",
       "  'jsonschema (>=3.0)',\n",
       "  'numpy',\n",
       "  'pandas (>=0.18)',\n",
       "  'toolz',\n",
       "  \"black ; extra == 'dev'\",\n",
       "  \"docutils ; extra == 'dev'\",\n",
       "  \"ipython ; extra == 'dev'\",\n",
       "  \"flake8 ; extra == 'dev'\",\n",
       "  \"pytest ; extra == 'dev'\",\n",
       "  \"sphinx ; extra == 'dev'\",\n",
       "  \"mistune (<2.0.0) ; extra == 'dev'\",\n",
       "  \"m2r ; extra == 'dev'\",\n",
       "  \"vega-datasets ; extra == 'dev'\",\n",
       "  \"recommonmark ; extra == 'dev'\"],\n",
       " 'requires_python': '>=3.7',\n",
       " 'summary': 'Altair: A declarative statistical visualization library for Python.',\n",
       " 'version': '4.2.2',\n",
       " 'yanked': False,\n",
       " 'yanked_reason': None}"
      ]
     },
     "execution_count": 5,
     "metadata": {},
     "output_type": "execute_result"
    }
   ],
   "source": [
    "def get_library_info(name):\n",
    "    pypi_url = f\"https://pypi.org/pypi/{name}/json\"\n",
    "    response = requests.get(pypi_url)\n",
    "    if response.status_code == 200:\n",
    "        return dict(response.json())['info']\n",
    "    else:\n",
    "        return None"
   ]
  },
  {
   "cell_type": "code",
   "execution_count": null,
   "metadata": {},
   "outputs": [],
   "source": []
  }
 ],
 "metadata": {
  "kernelspec": {
   "display_name": "Python 3",
   "language": "python",
   "name": "python3"
  },
  "language_info": {
   "codemirror_mode": {
    "name": "ipython",
    "version": 3
   },
   "file_extension": ".py",
   "mimetype": "text/x-python",
   "name": "python",
   "nbconvert_exporter": "python",
   "pygments_lexer": "ipython3",
   "version": "3.10.9"
  },
  "orig_nbformat": 4
 },
 "nbformat": 4,
 "nbformat_minor": 2
}
